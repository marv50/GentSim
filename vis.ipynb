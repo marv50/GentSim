{
 "cells": [
  {
   "cell_type": "code",
   "execution_count": null,
   "id": "a23becf5",
   "metadata": {},
   "outputs": [],
   "source": [
    "import mesa\n",
    "from mesa.visualization import SolaraViz, make_plot_component, make_space_component\n",
    "from src.model import GentSimModel"
   ]
  },
  {
   "cell_type": "code",
   "execution_count": 6,
   "id": "f5df3dcd",
   "metadata": {},
   "outputs": [],
   "source": [
    "def agent_portrayal(agent):\n",
    "    # Color by income_bin\n",
    "    color = \"tab:blue\"\n",
    "    if hasattr(agent, \"income_bin\"):\n",
    "        if agent.income_bin == \"high\":\n",
    "            color = \"tab:orange\"\n",
    "        elif agent.income_bin == \"medium\":\n",
    "            color = \"tab:green\"\n",
    "        elif agent.income_bin == \"low\":\n",
    "            color = \"tab:blue\"\n",
    "    return {\n",
    "        \"color\": color,\n",
    "        \"size\": 50,\n",
    "    }"
   ]
  },
  {
   "cell_type": "code",
   "execution_count": 17,
   "id": "660c9077",
   "metadata": {},
   "outputs": [],
   "source": [
    "model_params = {\n",
    "    \"N_agents\": 5,\n",
    "    \"N_neighbourhoods\": 5,\n",
    "    \"N_houses\": 5,\n",
    "    \"theta\": {\n",
    "        \"type\": \"SliderFloat\",\n",
    "        \"value\": 0.5,\n",
    "        \"label\": \"Theta:\",\n",
    "        \"min\": 0.0,\n",
    "        \"max\": 1.0,\n",
    "        \"step\": 0.01,\n",
    "    },\n",
    "    \"epsilon\": {\n",
    "        \"type\": \"SliderInt\",\n",
    "        \"value\": 1,\n",
    "        \"label\": \"Epsilon:\",\n",
    "        \"min\": 1,\n",
    "        \"max\": 10,\n",
    "        \"step\": 1,\n",
    "    },\n",
    "    \"p_h\": {\n",
    "        \"type\": \"SliderFloat\",\n",
    "        \"value\": 0.5,\n",
    "        \"label\": \"Probability high income (p_h):\",\n",
    "        \"min\": 0.0,\n",
    "        \"max\": 1.0,\n",
    "        \"step\": 0.01,\n",
    "    },\n",
    "}"
   ]
  },
  {
   "cell_type": "code",
   "execution_count": 18,
   "id": "24fb76d9",
   "metadata": {},
   "outputs": [
    {
     "data": {
      "application/vnd.jupyter.widget-view+json": {
       "model_id": "1d3d4b06640842f6844e8f4a0715f48e",
       "version_major": 2,
       "version_minor": 0
      },
      "text/html": [
       "Cannot show widget. You probably want to rerun the code cell above (<i>Click in the code cell, and press Shift+Enter <kbd>⇧</kbd>+<kbd>↩</kbd></i>)."
      ],
      "text/plain": [
       "Cannot show ipywidgets in text"
      ]
     },
     "metadata": {},
     "output_type": "display_data"
    }
   ],
   "source": [
    "# Create initial model instance\n",
    "model = GentSimModel(N_agents=5, N_neighbourhoods=5, N_houses=5, theta=0.5, epsilon=1, p_h=0.5)\n",
    "SpaceGraph = make_space_component(agent_portrayal)\n",
    "# GiniPlot = make_plot_component(\"Gini\")\n",
    "\n",
    "page = SolaraViz(\n",
    "    model,\n",
    "    components=[SpaceGraph],\n",
    "    model_params=model_params,\n",
    "    name=\"GentSim Model\",\n",
    ")\n",
    "page # This will render the visualization in the notebook"
   ]
  }
 ],
 "metadata": {
  "kernelspec": {
   "display_name": "Python (main)",
   "language": "python",
   "name": "main"
  },
  "language_info": {
   "codemirror_mode": {
    "name": "ipython",
    "version": 3
   },
   "file_extension": ".py",
   "mimetype": "text/x-python",
   "name": "python",
   "nbconvert_exporter": "python",
   "pygments_lexer": "ipython3",
   "version": "3.12.3"
  }
 },
 "nbformat": 4,
 "nbformat_minor": 5
}
