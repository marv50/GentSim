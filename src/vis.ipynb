{
 "cells": [
  {
   "cell_type": "code",
   "execution_count": 1,
   "id": "a23becf5",
   "metadata": {},
   "outputs": [
    {
     "name": "stdout",
     "output_type": "stream",
     "text": [
      "Mesa version: 3.2.0\n"
     ]
    }
   ],
   "source": [
    "import mesa\n",
    "\n",
    "print(f\"Mesa version: {mesa.__version__}\")\n",
    "from mesa.visualization import SolaraViz, make_plot_component, make_space_component\n",
    "\n",
    "# Import the local MoneyModel.py\n",
    "from model import GentSimModel"
   ]
  },
  {
   "cell_type": "code",
   "execution_count": 2,
   "id": "f5df3dcd",
   "metadata": {},
   "outputs": [],
   "source": [
    "def agent_portrayal(agent):\n",
    "    # Color by income_bin\n",
    "    color = \"tab:blue\"\n",
    "    if hasattr(agent, \"income_bin\"):\n",
    "        if agent.income_bin == \"high\":\n",
    "            color = \"tab:orange\"\n",
    "        elif agent.income_bin == \"medium\":\n",
    "            color = \"tab:green\"\n",
    "        elif agent.income_bin == \"low\":\n",
    "            color = \"tab:blue\"\n",
    "    return {\n",
    "        \"color\": color,\n",
    "        \"size\": 50,\n",
    "    }"
   ]
  },
  {
   "cell_type": "code",
   "execution_count": null,
   "id": "3fa1ca9f",
   "metadata": {},
   "outputs": [],
   "source": []
  },
  {
   "cell_type": "code",
   "execution_count": 3,
   "id": "660c9077",
   "metadata": {},
   "outputs": [],
   "source": [
    "model_params = {\n",
    "    \"N\": 10,\n",
    "    \"n\": 10,\n",
    "    \"theta\": {\n",
    "        \"type\": \"SliderFloat\",\n",
    "        \"value\": 0.5,\n",
    "        \"label\": \"Theta:\",\n",
    "        \"min\": 0.0,\n",
    "        \"max\": 1.0,\n",
    "        \"step\": 0.01,\n",
    "    },\n",
    "    \"epsilon\": {\n",
    "        \"type\": \"SliderInt\",\n",
    "        \"value\": 1,\n",
    "        \"label\": \"Epsilon:\",\n",
    "        \"min\": 1,\n",
    "        \"max\": 10,\n",
    "        \"step\": 1,\n",
    "    },\n",
    "    \"p_h\": {\n",
    "        \"type\": \"SliderFloat\",\n",
    "        \"value\": 0.5,\n",
    "        \"label\": \"Probability high income (p_h):\",\n",
    "        \"min\": 0.0,\n",
    "        \"max\": 1.0,\n",
    "        \"step\": 0.01,\n",
    "    },\n",
    "}"
   ]
  },
  {
   "cell_type": "code",
   "execution_count": 4,
   "id": "6989833a",
   "metadata": {},
   "outputs": [],
   "source": [
    "model_params = {\n",
    "    \"N_agents\": 10,\n",
    "    \"m\": 10,\n",
    "    \"n\": 10,\n",
    "    \"theta\": 0.5,\n",
    "    \"epsilon\": 1,\n",
    "    \"p_h\": 0.5,\n",
    "}\n"
   ]
  },
  {
   "cell_type": "code",
   "execution_count": 5,
   "id": "24fb76d9",
   "metadata": {},
   "outputs": [
    {
     "data": {
      "application/vnd.jupyter.widget-view+json": {
       "model_id": "fbb23549bc53478a92820c509cdbbecd",
       "version_major": 2,
       "version_minor": 0
      },
      "text/html": [
       "Cannot show widget. You probably want to rerun the code cell above (<i>Click in the code cell, and press Shift+Enter <kbd>⇧</kbd>+<kbd>↩</kbd></i>)."
      ],
      "text/plain": [
       "Cannot show ipywidgets in text"
      ]
     },
     "metadata": {},
     "output_type": "display_data"
    }
   ],
   "source": [
    "# Create initial model instance\n",
    "model = GentSimModel(N_agents=10, m=10, n=10, theta=0.5, epsilon=1, p_h=0.5)\n",
    "SpaceGraph = make_space_component(agent_portrayal)\n",
    "GiniPlot = make_plot_component(\"Gini\")\n",
    "\n",
    "page = SolaraViz(\n",
    "    model,\n",
    "    components=[SpaceGraph],\n",
    "    model_params=model_params,\n",
    "    name=\"GentSim Model\",\n",
    ")\n",
    "page  # This will render the visualization in the notebook"
   ]
  },
  {
   "cell_type": "code",
   "execution_count": 6,
   "id": "d2ba954b",
   "metadata": {},
   "outputs": [],
   "source": [
    "# from mesa.visualization import SolaraViz, make_space_component\n",
    "\n",
    "# # Define model_params\n",
    "# model_params = {\"N\": 10, \"n\": 10, \"theta\": 0.5, \"epsilon\": 1, \"p_h\": 0.5}\n",
    "\n",
    "\n",
    "# # Define a safe agent portrayal function\n",
    "# def agent_portrayal(agent):\n",
    "#     if (\n",
    "#         hasattr(agent, \"pos\")\n",
    "#         and isinstance(agent.pos, (tuple, list))\n",
    "#         and len(agent.pos) == 2\n",
    "#     ):\n",
    "#         x, y = agent.pos\n",
    "#     else:\n",
    "#         x, y = 0, 0\n",
    "#     return {\n",
    "#         \"Shape\": \"circle\",\n",
    "#         \"Color\": \"blue\",\n",
    "#         \"Filled\": \"true\",\n",
    "#         \"Layer\": 0,\n",
    "#         \"r\": 0.5,\n",
    "#         \"x\": x,\n",
    "#         \"y\": y,\n",
    "#     }\n",
    "\n",
    "\n",
    "# # Create model instance\n",
    "# model = GentSimModel(**model_params)\n",
    "\n",
    "# # Create space visualization component\n",
    "# SpaceGraph = make_space_component(agent_portrayal)\n",
    "\n",
    "# # Build Solara page\n",
    "# page = SolaraViz(\n",
    "#     model,\n",
    "#     components=[SpaceGraph],\n",
    "#     model_params=model_params,\n",
    "#     name=\"GentSim Model\",\n",
    "# )\n",
    "\n",
    "# page\n"
   ]
  },
  {
   "cell_type": "code",
   "execution_count": null,
   "id": "7c190a8b-bb4b-4b5c-8183-51efe70c9ebd",
   "metadata": {},
   "outputs": [],
   "source": []
  }
 ],
 "metadata": {
  "kernelspec": {
   "display_name": ".venv",
   "language": "python",
   "name": "python3"
  },
  "language_info": {
   "codemirror_mode": {
    "name": "ipython",
    "version": 3
   },
   "file_extension": ".py",
   "mimetype": "text/x-python",
   "name": "python",
   "nbconvert_exporter": "python",
   "pygments_lexer": "ipython3",
   "version": "3.13.0"
  }
 },
 "nbformat": 4,
 "nbformat_minor": 5
}
