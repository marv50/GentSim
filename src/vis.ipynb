{
 "cells": [
  {
   "cell_type": "code",
   "execution_count": 14,
   "id": "a23becf5",
   "metadata": {},
   "outputs": [],
   "source": [
    "import mesa\n",
    "from mesa import Agent\n",
    "from mesa import Model\n",
    "from typing import Tuple\n",
    "\n",
    "import numpy as np\n",
    "import seaborn as sns\n",
    "import pandas as pd\n",
    "\n",
    "from model import GentSimModel\n",
    "from household import Household"
   ]
  },
  {
   "cell_type": "code",
   "execution_count": 15,
   "id": "f5df3dcd",
   "metadata": {},
   "outputs": [],
   "source": [
    "def agent_portrayal(agent):\n",
    "    # Color by income_bin\n",
    "    color = \"tab:blue\"\n",
    "    if hasattr(agent, \"income_bin\"):\n",
    "        if agent.income_bin == \"high\":\n",
    "            color = \"tab:orange\"\n",
    "        elif agent.income_bin == \"medium\":\n",
    "            color = \"tab:green\"\n",
    "        elif agent.income_bin == \"low\":\n",
    "            color = \"tab:blue\"\n",
    "    return {\n",
    "        \"color\": color,\n",
    "        \"size\": 50,\n",
    "    }"
   ]
  },
  {
   "cell_type": "code",
   "execution_count": 16,
   "id": "660c9077",
   "metadata": {},
   "outputs": [],
   "source": [
    "model_params = {\n",
    "    \"N\": 10,\n",
    "    \"n\": 10,\n",
    "    \"theta\": {\n",
    "        \"type\": \"SliderFloat\",\n",
    "        \"value\": 0.5,\n",
    "        \"label\": \"Theta:\",\n",
    "        \"min\": 0.0,\n",
    "        \"max\": 1.0,\n",
    "        \"step\": 0.01,\n",
    "    },\n",
    "    \"epsilon\": {\n",
    "        \"type\": \"SliderInt\",\n",
    "        \"value\": 1,\n",
    "        \"label\": \"Epsilon:\",\n",
    "        \"min\": 1,\n",
    "        \"max\": 10,\n",
    "        \"step\": 1,\n",
    "    },\n",
    "    \"p_h\": {\n",
    "        \"type\": \"SliderFloat\",\n",
    "        \"value\": 0.5,\n",
    "        \"label\": \"Probability high income (p_h):\",\n",
    "        \"min\": 0.0,\n",
    "        \"max\": 1.0,\n",
    "        \"step\": 0.01,\n",
    "    },\n",
    "}"
   ]
  },
  {
   "cell_type": "code",
   "execution_count": 17,
   "id": "24fb76d9",
   "metadata": {},
   "outputs": [
    {
     "name": "stderr",
     "output_type": "stream",
     "text": [
      "Component react.component(mesa.visualization.components.matplotlib_components.SpaceMatplotlib) raised exception IndexError('too many indices for array: array is 1-dimensional, but 2 were indexed')\n",
      "Traceback (most recent call last):\n",
      "  File \"/home/fabian/main/lib/python3.12/site-packages/reacton/core.py\", line 1702, in _render\n",
      "    root_element = el.component.f(*el.args, **el.kwargs)\n",
      "                   ^^^^^^^^^^^^^^^^^^^^^^^^^^^^^^^^^^^^^\n",
      "  File \"/home/fabian/main/lib/python3.12/site-packages/mesa/visualization/components/matplotlib_components.py\", line 82, in SpaceMatplotlib\n",
      "    draw_space(\n",
      "  File \"/home/fabian/main/lib/python3.12/site-packages/mesa/visualization/mpl_space_drawing.py\", line 152, in draw_space\n",
      "    draw_orthogonal_grid(space, agent_portrayal, ax=ax, **space_drawing_kwargs)\n",
      "  File \"/home/fabian/main/lib/python3.12/site-packages/mesa/visualization/mpl_space_drawing.py\", line 352, in draw_orthogonal_grid\n",
      "    _scatter(ax, arguments, **kwargs)\n",
      "  File \"/home/fabian/main/lib/python3.12/site-packages/mesa/visualization/mpl_space_drawing.py\", line 632, in _scatter\n",
      "    x = loc[:, 0]\n",
      "        ~~~^^^^^^\n",
      "IndexError: too many indices for array: array is 1-dimensional, but 2 were indexed\n"
     ]
    },
    {
     "data": {
      "application/vnd.jupyter.widget-view+json": {
       "model_id": "a1f7a09a6f37409f8ff468a582c32627",
       "version_major": 2,
       "version_minor": 0
      },
      "text/html": [
       "Cannot show widget. You probably want to rerun the code cell above (<i>Click in the code cell, and press Shift+Enter <kbd>⇧</kbd>+<kbd>↩</kbd></i>)."
      ],
      "text/plain": [
       "Cannot show ipywidgets in text"
      ]
     },
     "metadata": {},
     "output_type": "display_data"
    }
   ],
   "source": [
    "from mesa.visualization import SolaraViz, make_plot_component, make_space_component\n",
    "\n",
    "# Create initial model instance\n",
    "model = GentSimModel(N=10, n=10, theta=0.5, epsilon=1, p_h=0.5)\n",
    "\n",
    "SpaceGraph = make_space_component(agent_portrayal)\n",
    "# Add more plots if you add model_reporters to your model\n",
    "\n",
    "page = SolaraViz(\n",
    "    model,\n",
    "    components=[SpaceGraph],\n",
    "    model_params=model_params,\n",
    "    name=\"GentSim Model\",\n",
    ")\n",
    "page  # This will render the visualization in the notebook"
   ]
  },
  {
   "cell_type": "code",
   "execution_count": null,
   "id": "7c190a8b-bb4b-4b5c-8183-51efe70c9ebd",
   "metadata": {},
   "outputs": [],
   "source": []
  }
 ],
 "metadata": {
  "kernelspec": {
   "display_name": "Python (main)",
   "language": "python",
   "name": "main"
  },
  "language_info": {
   "codemirror_mode": {
    "name": "ipython",
    "version": 3
   },
   "file_extension": ".py",
   "mimetype": "text/x-python",
   "name": "python",
   "nbconvert_exporter": "python",
   "pygments_lexer": "ipython3",
   "version": "3.12.3"
  }
 },
 "nbformat": 4,
 "nbformat_minor": 5
}
